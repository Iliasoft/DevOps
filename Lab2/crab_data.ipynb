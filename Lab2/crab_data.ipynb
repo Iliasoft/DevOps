{
 "cells": [
  {
   "cell_type": "code",
   "execution_count": 1,
   "id": "ac788b11-0ae4-4784-8df0-7bd999bd6077",
   "metadata": {
    "tags": []
   },
   "outputs": [
    {
     "name": "stdout",
     "output_type": "stream",
     "text": [
      "Requirement already satisfied: lxml in /opt/conda/lib/python3.10/site-packages (4.9.2)\n",
      "b'<News><Item ID=\"2942\"><Date>31.03.2023</Date><Url>/statistics/macro_itm/dkfs/#a_54699                                                                 '\n"
     ]
    }
   ],
   "source": [
    "import requests\n",
    "from xml.etree import ElementTree\n",
    "import pandas as pd\n",
    "from pandas import DataFrame\n",
    "!pip3 install lxml\n",
    "\n",
    "\n",
    "URL = 'https://cbr.ru/scripts/XML_News.asp'\n",
    "OUTPUT_FILE = '/opt/lab1/data.txt'\n",
    "OUTPUT_FILE = 'data/output_data.csv'\n",
    "\n",
    "response = requests.post(url=URL)\n",
    "tree = ElementTree.fromstring(response.content)\n",
    "str_xml = ElementTree.tostring(tree, encoding='utf-8')\n",
    "\n",
    "print (str_xml[0:150])\n",
    "ds = pd.read_xml(str_xml,  xpath=\".//Item\", encoding = 'utf-8')\n",
    "\n",
    "\n",
    "ds.to_csv(OUTPUT_FILE, index=False)"
   ]
  },
  {
   "cell_type": "code",
   "execution_count": 2,
   "id": "f170ee26-b5a6-4b6a-8c90-8d35667a1bcc",
   "metadata": {},
   "outputs": [
    {
     "name": "stdout",
     "output_type": "stream",
     "text": [
      "Requirement already satisfied: psycopg2-binary in /opt/conda/lib/python3.10/site-packages (2.9.5)\n"
     ]
    }
   ],
   "source": [
    "### LAB2 \n",
    "!pip install psycopg2-binary"
   ]
  },
  {
   "cell_type": "code",
   "execution_count": 3,
   "id": "759983d6-f00e-4c2f-89b7-ae174b3de9e0",
   "metadata": {
    "tags": []
   },
   "outputs": [
    {
     "name": "stdout",
     "output_type": "stream",
     "text": [
      "158.160.33.115\n"
     ]
    }
   ],
   "source": [
    "import psycopg2\n",
    "import os \n",
    "\n",
    "DB_HOST =  os.environ.get('DB_HOST','158.160.33.115')\n",
    "DB_PORT = os.environ.get('DB_PORT', 5432) \n",
    "DB_USER = os.environ.get('DB_USER','ad_admin_user')\n",
    "DB_PWD = os.environ.get('DB_PWD','top_secret')\n",
    "DB_DBNAME = os.environ.get('DB_DBNAME','db_test')\n",
    "\n",
    "print (DB_HOST)"
   ]
  },
  {
   "cell_type": "code",
   "execution_count": 4,
   "id": "1c095cc0-8354-4cb0-ac5f-9a049f5c74d2",
   "metadata": {
    "tags": []
   },
   "outputs": [
    {
     "name": "stdout",
     "output_type": "stream",
     "text": [
      "Connected to:  {'user': 'ad_admin_user', 'channel_binding': 'prefer', 'dbname': 'db_test', 'host': '158.160.33.115', 'port': '5432', 'options': '', 'sslmode': 'prefer', 'sslcompression': '0', 'sslsni': '1', 'ssl_min_protocol_version': 'TLSv1.2', 'gssencmode': 'prefer', 'krbsrvname': 'postgres', 'target_session_attrs': 'any'} \n",
      "\n",
      "PostgreSQL database version: ('PostgreSQL 15.2 (Debian 15.2-1.pgdg110+1) on x86_64-pc-linux-gnu, compiled by gcc (Debian 10.2.1-6) 10.2.1 20210110, 64-bit',)\n",
      "(False,)\n",
      "Creating table with  sql:  Create  table msai_lab1_table ( ID integer NOT  NULL, Date varchar(15), URL varchar(250), Title varchar(500),PRIMARY KEY (ID));\n",
      "None\n",
      "6812 Rows inserted  into msai_lab1_table\n"
     ]
    }
   ],
   "source": [
    "\n",
    "\n",
    "conn = psycopg2.connect(f\"host={DB_HOST} port={DB_PORT} dbname={DB_DBNAME} user={DB_USER} password={DB_PWD}\")\n",
    "print('Connected to: ', conn.get_dsn_parameters(), \"\\n\")\n",
    "\n",
    "cur = conn.cursor()\n",
    "cur.execute(\"SELECT version();\")\n",
    "db_version = cur.fetchone()\n",
    "print('PostgreSQL database version:',db_version)\n",
    "\n",
    "schema_name = 'db_test'\n",
    "table_name = 'msai_lab1_table'\n",
    "\n",
    "check_table_sql = f'SELECT EXISTS ( \\\n",
    "   SELECT FROM pg_tables \\\n",
    "   WHERE  tablename  = \\'{table_name}\\' \\\n",
    "   );'\n",
    "\n",
    "create_table_sql = f'Create  table {table_name} ( \\\n",
    "ID integer NOT  NULL, \\\n",
    "Date varchar(15), \\\n",
    "URL varchar(250), \\\n",
    "Title varchar(500),\\\n",
    "PRIMARY KEY (ID)\\\n",
    ");'\n",
    "\n",
    "cur.execute(check_table_sql)\n",
    "db_out = cur.fetchone()\n",
    "print(db_out)\n",
    "if db_out[0] == False:\n",
    "    print ('Creating table with  sql: ', create_table_sql)\n",
    "    create_result  = cur.execute(create_table_sql)\n",
    "    print (create_result)\n",
    "    \n",
    "else:\n",
    "    print (f'Table {table_name} already  exists')\n",
    "\n",
    "conn.commit()\n",
    "\n",
    "if 'ds' not  in globals() or  ds  is  None:\n",
    "    print('Dataframe  is empty. Please  execute  first cell (lab1)')\n",
    "else:\n",
    "      for index, row in ds.iterrows():\n",
    "       \n",
    "        id_= row[0]\n",
    "        date = row[1]\n",
    "        url = row[2]\n",
    "        title = row[3]\n",
    "        \n",
    "        insert_sql_query = f'INSERT INTO {table_name}  (ID, Date, URL,Title) \\\n",
    "        VALUES ({id_}, \\'{date}\\', \\'{url}\\',  \\'{title}\\' ) \\\n",
    "        ON CONFLICT (ID) DO UPDATE \\\n",
    "        SET Date = \\'{date}\\', \\\n",
    "        URL = \\'{url}\\', \\\n",
    "        Title = \\'{title}\\' '\n",
    "    \n",
    "  \n",
    "        #print  (insert_sql_query)\n",
    "        ins_result = cur.execute(insert_sql_query)\n",
    "        #print (ins_result)\n",
    "        \n",
    "      conn.commit()        \n",
    "      print(f'{index} Rows inserted  into {table_name}')\n",
    "        \n",
    "\n",
    "conn.close()"
   ]
  },
  {
   "cell_type": "code",
   "execution_count": 5,
   "id": "4bf2ffb2-3bc1-4a16-8097-623a06c91cf4",
   "metadata": {
    "tags": []
   },
   "outputs": [
    {
     "name": "stdout",
     "output_type": "stream",
     "text": [
      "Connected to:  {'user': 'ad_admin_user', 'channel_binding': 'prefer', 'dbname': 'db_test', 'host': '158.160.33.115', 'port': '5432', 'options': '', 'sslmode': 'prefer', 'sslcompression': '0', 'sslsni': '1', 'ssl_min_protocol_version': 'TLSv1.2', 'gssencmode': 'prefer', 'krbsrvname': 'postgres', 'target_session_attrs': 'any'} \n",
      "\n",
      "[(2942, '31.03.2023', '/statistics/macro_itm/dkfs/#a_54699', 'Обзор банковской системы'), (2941, '31.03.2023', '/statistics/macro_itm/dkfs/#a_54698', 'Обзор кредитных организаций'), (2940, '31.03.2023', '/statistics/macro_itm/dkfs/#a_54697', 'Обзор центрального банка'), (6761, '31.03.2023', '/statistics/macro_itm/dkfs/#a_54696', 'Сезонно скорректированный ряд широкой денежной массы'), (6271, '31.03.2023', '/statistics/macro_itm/dkfs/#a_54695', 'Сезонно скорректированный ряд денежной массы (M2)'), (8377, '31.03.2023', '/statistics/ms/', 'Денежная масса М2 (национальное определение)'), (23055, '31.03.2023', '/statistics/macro_itm/svs/interactive/', 'Интерактивное представление актуальных статистических данных'), (34080, '31.03.2023', '/statistics/pr/', 'Программа обследований Банка России на II — III кварталы 2023 года'), (34078, '31.03.2023', '/calendar/#a_145900', 'Календарь публикации на апрель 2023 года'), (34077, '31.03.2023', '/ec_research/analitics/#a_145990file', 'Международный опыт коммуникации о решениях по денежно-кредитной политике и макроэкономических прогнозах')]\n"
     ]
    }
   ],
   "source": [
    "### Just  test cell \n",
    "\n",
    "conn = psycopg2.connect(f\"host={DB_HOST} port={DB_PORT} dbname={DB_DBNAME} user={DB_USER} password={DB_PWD}\")\n",
    "print('Connected to: ', conn.get_dsn_parameters(), \"\\n\")\n",
    "cur = conn.cursor()\n",
    "sel_query_sql = f'Select  *  from {table_name}'\n",
    "sel_result  = cur.execute(sel_query_sql)\n",
    "print (cur.fetchmany(10))\n",
    "\n",
    "conn.close()\n",
    "    "
   ]
  },
  {
   "cell_type": "code",
   "execution_count": null,
   "id": "ccad2387-a5a3-4412-aadc-a176d36c9ae0",
   "metadata": {},
   "outputs": [],
   "source": []
  },
  {
   "cell_type": "code",
   "execution_count": null,
   "id": "28e8f855-91fc-4fa6-baab-f2011a010440",
   "metadata": {},
   "outputs": [],
   "source": []
  }
 ],
 "metadata": {
  "kernelspec": {
   "display_name": "Python 3 (ipykernel)",
   "language": "python",
   "name": "python3"
  },
  "language_info": {
   "codemirror_mode": {
    "name": "ipython",
    "version": 3
   },
   "file_extension": ".py",
   "mimetype": "text/x-python",
   "name": "python",
   "nbconvert_exporter": "python",
   "pygments_lexer": "ipython3",
   "version": "3.10.9"
  }
 },
 "nbformat": 4,
 "nbformat_minor": 5
}
